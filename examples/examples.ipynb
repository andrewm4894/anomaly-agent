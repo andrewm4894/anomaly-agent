{
 "cells": [
  {
   "cell_type": "markdown",
   "metadata": {},
   "source": [
    "# Examples\n",
    "\n",
    "Some examples of how to use the anomaly agent."
   ]
  },
  {
   "cell_type": "markdown",
   "metadata": {},
   "source": [
    "<a target=\"_blank\" href=\"https://colab.research.google.com/github/andrewm4894/anomaly-agent/blob/main/notebooks/examples.ipynb\">\n",
    "  <img src=\"https://colab.research.google.com/assets/colab-badge.svg\" alt=\"Open In Colab\"/>\n",
    "</a>"
   ]
  },
  {
   "cell_type": "code",
   "execution_count": null,
   "metadata": {},
   "outputs": [],
   "source": [
    "import os\n",
    "from IPython.display import Image, display\n",
    "import pandas as pd\n",
    "from anomaly_agent.utils import make_df, make_anomaly_config\n",
    "from anomaly_agent.plot import plot_df_matplotlib as plot_df\n",
    "from anomaly_agent.agent import AnomalyAgent\n",
    "\n",
    "pd.set_option(\"display.max_colwidth\", None)\n",
    "\n",
    "# set openai api key if not in environment\n",
    "# os.environ['OPENAI_API_KEY'] = \"<your-openai-api-key>\""
   ]
  },
  {
   "cell_type": "code",
   "execution_count": null,
   "metadata": {},
   "outputs": [],
   "source": [
    "# get and anomaly config to generate some dummy data\n",
    "anomaly_cfg = make_anomaly_config()\n",
    "print(anomaly_cfg)\n",
    "\n",
    "# generate some dummy data\n",
    "df = make_df(1000, 3, anomaly_config=anomaly_cfg)\n",
    "df.head()"
   ]
  },
  {
   "cell_type": "code",
   "execution_count": null,
   "metadata": {},
   "outputs": [],
   "source": [
    "# plot the data\n",
    "plot_df(df)"
   ]
  },
  {
   "cell_type": "code",
   "execution_count": null,
   "metadata": {},
   "outputs": [],
   "source": [
    "# create anomaly agent\n",
    "anomaly_agent = AnomalyAgent()\n",
    "\n",
    "# Display the graph in Mermaid format\n",
    "display(Image(anomaly_agent.app.get_graph().draw_mermaid_png()))"
   ]
  },
  {
   "cell_type": "code",
   "execution_count": null,
   "metadata": {},
   "outputs": [],
   "source": [
    "# detect anomalies\n",
    "anomalies = anomaly_agent.detect_anomalies(df)\n",
    "\n",
    "# print anomalies\n",
    "print(anomalies)"
   ]
  },
  {
   "cell_type": "code",
   "execution_count": null,
   "metadata": {},
   "outputs": [],
   "source": [
    "# get anomalies in long format\n",
    "df_anomalies_long = anomaly_agent.get_anomalies_df(anomalies)\n",
    "df_anomalies_long.sample(10)"
   ]
  },
  {
   "cell_type": "code",
   "execution_count": null,
   "metadata": {},
   "outputs": [],
   "source": [
    "# get anomalies in wide format\n",
    "df_anomalies_wide = anomaly_agent.get_anomalies_df(anomalies, format=\"wide\")\n",
    "df_anomalies_wide.sample(10)"
   ]
  },
  {
   "cell_type": "code",
   "execution_count": null,
   "metadata": {},
   "outputs": [],
   "source": [
    "# merge anomalies with original data\n",
    "df_final = df.merge(\n",
    "    df_anomalies_wide,\n",
    "    on=\"timestamp\",\n",
    "    how=\"left\",\n",
    "    suffixes=(\"\", \"_anomaly_flag\"),\n",
    ")\n",
    "\n",
    "df_final.head()"
   ]
  },
  {
   "cell_type": "code",
   "execution_count": null,
   "metadata": {},
   "outputs": [],
   "source": [
    "# plot final data with anomalies\n",
    "plot_df(df_final)"
   ]
  }
 ],
 "metadata": {
  "kernelspec": {
   "display_name": "venv",
   "language": "python",
   "name": "python3"
  },
  "language_info": {
   "codemirror_mode": {
    "name": "ipython",
    "version": 3
   },
   "file_extension": ".py",
   "mimetype": "text/x-python",
   "name": "python",
   "nbconvert_exporter": "python",
   "pygments_lexer": "ipython3",
   "version": "3.11.6"
  }
 },
 "nbformat": 4,
 "nbformat_minor": 2
}
